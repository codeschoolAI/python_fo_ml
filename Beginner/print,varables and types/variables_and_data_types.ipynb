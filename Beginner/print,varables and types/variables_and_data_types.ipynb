{
 "cells": [
  {
   "attachments": {},
   "cell_type": "markdown",
   "metadata": {},
   "source": [
    "# Basic Variables and Data Types\n",
    "\n",
    "> The variable is a name given to a memory location. It is the basic unit of storage in a computer program. It is used to store data values in the memory during the execution of a program. The value stored in a variable can be changed during the execution of a program.\n",
    "\n",
    "> Basic variable types in Python are: \n",
    "> - Integer \n",
    "> - Float\n",
    "> - String\n",
    "> - Boolean\n",
    "\n"
   ]
  },
  {
   "attachments": {},
   "cell_type": "markdown",
   "metadata": {},
   "source": [
    "## Integer\n",
    "\n",
    "> An integer is a whole number, positive or negative, without decimals, of unlimited length.\n",
    "> \n",
    "> Example of integer variables:\n",
    "```\n",
    "-4, -3, -2, -1, 0, 1, 2, 3, 4\n",
    "```\n",
    "> In Python, Integer type is called `int`."
   ]
  },
  {
   "attachments": {},
   "cell_type": "markdown",
   "metadata": {},
   "source": [
    "## Float\n",
    "> A float (floating point real value) is a number, positive or negative, containing one or more decimals.\n",
    "\n",
    "> Example of float variables:\n",
    "> \n",
    "> -1.25, -1.0, -0.5, 0.0, 0.5, 1.0, 1.25\n",
    "\n",
    "\n",
    "> Fractions:\n",
    ">\n",
    "> $\\frac{1}{2}$, $\\frac{1}{3}$, $\\frac{1}{4}$, $\\frac{1}{5}$, $\\frac{1}{6}$, $\\frac{1}{7}$, $\\frac{1}{8}$, $\\frac{1}{9}$, $\\frac{1}{10}$\n",
    "\n",
    "> Roots:\n",
    ">\n",
    "> $\\sqrt{2}$, $\\sqrt{3}$, $\\sqrt{4}$, $\\sqrt{5}$, $\\sqrt{6}$, $\\sqrt{7}$, $\\sqrt{8}$, $\\sqrt{9}$, $\\sqrt{10}$\n",
    "\n",
    "> In Python, Float type is called `float`.\n"
   ]
  },
  {
   "attachments": {},
   "cell_type": "markdown",
   "metadata": {},
   "source": [
    "## Creating Variables\n",
    "\n",
    "> In order to create a variable, we need to give it a name and assign it a value. The name of the variable can be anything, as long as it follows these rules:\n",
    "> - It can contain only letters, numbers, and the underscore character.\n",
    "> - It cannot begin with a number.\n",
    "> - Spaces are not allowed in the name, use underscore character instead.\n",
    "> - Avoid using Python keywords and function names as a variable name.\n",
    "> - Variable names are case sensitive (age, Age and AGE are three different variables).\n"
   ]
  },
  {
   "cell_type": "code",
   "execution_count": 3,
   "metadata": {},
   "outputs": [
    {
     "name": "stdout",
     "output_type": "stream",
     "text": [
      "5\n"
     ]
    }
   ],
   "source": [
    "# Creating variables\n",
    "a = 5 \n",
    "# Printing the variable\n",
    "print(a)"
   ]
  },
  {
   "cell_type": "code",
   "execution_count": 4,
   "metadata": {},
   "outputs": [
    {
     "name": "stdout",
     "output_type": "stream",
     "text": [
      "5\n"
     ]
    }
   ],
   "source": [
    "# Using the numbers in the variable name\n",
    "a1 = 5\n",
    "print(a1)"
   ]
  },
  {
   "cell_type": "code",
   "execution_count": 7,
   "metadata": {},
   "outputs": [],
   "source": [
    "# Using the underscore in the variable name\n",
    "# If you need to use a multiple words in the variable name, you can use the underscore\n",
    "# This is called snake case\n",
    "a_1 = 42"
   ]
  },
  {
   "cell_type": "code",
   "execution_count": null,
   "metadata": {},
   "outputs": [],
   "source": []
  },
  {
   "attachments": {},
   "cell_type": "markdown",
   "metadata": {},
   "source": [
    "## Reserved Keywords\n",
    "\n",
    "> The following list shows the Python 3.11 keywords. These are reserved words and you cannot use them as constant or variable or any other identifier names.\n",
    "\n",
    "| False | await | else | import | pass |\n",
    "| --- | --- | --- | --- | --- |\n",
    "| None | break | except | in | raise |\n",
    "| True | class | finally | is | return |\n",
    "| and | continue | for | lambda | try |\n",
    "| as | def | from | nonlocal | while |\n",
    "| assert | del | global | not | with |\n",
    "| async | elif | if | or | yield |\n",
    "\n"
   ]
  },
  {
   "attachments": {},
   "cell_type": "markdown",
   "metadata": {},
   "source": [
    "## Assigning Values to Variables"
   ]
  },
  {
   "cell_type": "code",
   "execution_count": 8,
   "metadata": {},
   "outputs": [
    {
     "name": "stdout",
     "output_type": "stream",
     "text": [
      "5 10\n"
     ]
    }
   ],
   "source": [
    "a = 5\n",
    "b = 10\n",
    "print(a,b)"
   ]
  },
  {
   "cell_type": "code",
   "execution_count": 10,
   "metadata": {},
   "outputs": [
    {
     "name": "stdout",
     "output_type": "stream",
     "text": [
      "7 7\n"
     ]
    }
   ],
   "source": [
    "a = 5\n",
    "a = 7\n",
    "print(a,a)"
   ]
  },
  {
   "cell_type": "code",
   "execution_count": 11,
   "metadata": {},
   "outputs": [
    {
     "name": "stdout",
     "output_type": "stream",
     "text": [
      "5 7\n"
     ]
    }
   ],
   "source": [
    "# Case sensitive\n",
    "a = 5\n",
    "A = 7\n",
    "print(a,A)"
   ]
  },
  {
   "attachments": {},
   "cell_type": "markdown",
   "metadata": {},
   "source": [
    "# Python arithmatic operators\n",
    "\n",
    "> Python language supports the following types of operators.\n",
    "\n",
    "> - Arithmetic Operators\n",
    "> - Comparison (Relational) Operators\n",
    "> - Assignment Operators\n",
    "> - Logical Operators\n",
    "> - Bitwise Operators\n",
    "> - Membership Operators\n",
    "> - Identity Operators\n",
    "\n",
    "## Arithmetic Operators\n",
    "\n",
    "> Arithmetic operators are used with numeric values to perform common mathematical operations:\n",
    "\n",
    "| Operator | Name | Example |\n",
    "| --- | --- | --- |\n",
    "| + | Addition | x + y |\n",
    "| - | Subtraction | x - y |\n",
    "| * | Multiplication | x * y |\n",
    "| / | Division | x / y |\n",
    "| % | Modulus | x % y |\n",
    "| ** | Exponentiation | x ** y |\n",
    "| // | Floor division | x // y |\n"
   ]
  },
  {
   "attachments": {},
   "cell_type": "markdown",
   "metadata": {},
   "source": [
    "![img](Arithmetic_Operators.png)\n",
    "\n"
   ]
  },
  {
   "cell_type": "markdown",
   "metadata": {},
   "source": []
  }
 ],
 "metadata": {
  "kernelspec": {
   "display_name": "Python 3",
   "language": "python",
   "name": "python3"
  },
  "language_info": {
   "codemirror_mode": {
    "name": "ipython",
    "version": 3
   },
   "file_extension": ".py",
   "mimetype": "text/x-python",
   "name": "python",
   "nbconvert_exporter": "python",
   "pygments_lexer": "ipython3",
   "version": "3.9.6"
  },
  "orig_nbformat": 4
 },
 "nbformat": 4,
 "nbformat_minor": 2
}
