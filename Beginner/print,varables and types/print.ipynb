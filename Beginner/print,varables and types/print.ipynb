{
 "cells": [
  {
   "attachments": {},
   "cell_type": "markdown",
   "metadata": {},
   "source": [
    "# Introduction to Print Function\n",
    "\n",
    "The print function is used to display the output to the user.\n",
    "The print function is built in function in python."
   ]
  },
  {
   "cell_type": "code",
   "execution_count": 1,
   "metadata": {},
   "outputs": [
    {
     "name": "stdout",
     "output_type": "stream",
     "text": [
      "Hello World\n"
     ]
    }
   ],
   "source": [
    "print('Hello World') "
   ]
  },
  {
   "attachments": {},
   "cell_type": "markdown",
   "metadata": {},
   "source": [
    "## Syntax of print function\n",
    "\n",
    "```print(*objects, sep=' ', end=', file=sys.stdout, flush=False)```\n",
    "\n",
    "| Parameter | Type | Condition | Description |\n",
    "| --- | --- | --- | --- |\n",
    "| objects | object | Optional | The object to the printed. |\n",
    "| sep | str | Optional | The separator between the objects. Default value is a space. |\n",
    "| end | str | Optional | The string to be printed after the last object. Default value is a new line. |"
   ]
  },
  {
   "cell_type": "code",
   "execution_count": null,
   "metadata": {},
   "outputs": [],
   "source": []
  }
 ],
 "metadata": {
  "kernelspec": {
   "display_name": "Python 3",
   "language": "python",
   "name": "python3"
  },
  "language_info": {
   "codemirror_mode": {
    "name": "ipython",
    "version": 3
   },
   "file_extension": ".py",
   "mimetype": "text/x-python",
   "name": "python",
   "nbconvert_exporter": "python",
   "pygments_lexer": "ipython3",
   "version": "3.9.6"
  },
  "orig_nbformat": 4
 },
 "nbformat": 4,
 "nbformat_minor": 2
}
