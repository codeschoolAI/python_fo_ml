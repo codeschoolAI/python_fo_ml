{
 "cells": [
  {
   "attachments": {},
   "cell_type": "markdown",
   "metadata": {},
   "source": [
    "# Introduction to Print Function\n",
    "\n",
    "> The print function is used to display the output to the user.\n",
    "\n",
    "> The print function is built in function in python."
   ]
  },
  {
   "cell_type": "code",
   "execution_count": 1,
   "metadata": {},
   "outputs": [
    {
     "name": "stdout",
     "output_type": "stream",
     "text": [
      "Hello World\n"
     ]
    }
   ],
   "source": [
    "print('Hello World') "
   ]
  },
  {
   "attachments": {},
   "cell_type": "markdown",
   "metadata": {},
   "source": [
    "## Syntax of print function\n",
    "\n",
    "```Python\n",
    "print(*objects, sep=' ', end=', file=sys.stdout, flush=False)\n",
    "\n",
    "```\n",
    "\n",
    "| Parameter | Type | Condition | Description |\n",
    "| --- | --- | --- | --- |\n",
    "| objects | object | Optional | The object to the printed. |\n",
    "| sep | str | Optional | The separator between the objects. Default value is a space. |\n",
    "| end | str | Optional | The string to be printed after the last object. Default value is a new line. |\n",
    "| file | file | Optional | An object with a write method. Default value is sys.stdout. |\n",
    "| flush | bool | Optional | A Boolean, specifying if the output is flushed (True) or buffered (False). Default value is False. |"
   ]
  },
  {
   "attachments": {},
   "cell_type": "markdown",
   "metadata": {},
   "source": [
    "## Example of using print function\n",
    "\n",
    "- Print without any argument\n",
    "- Print with one argument\n",
    "- Print with multiple arguments\n",
    "- Print with separator\n",
    "- Print with end\n",
    "- Print with file\n",
    "- Print with flush\n",
    "- Multiple print statements\n",
    "\n"
   ]
  },
  {
   "cell_type": "code",
   "execution_count": 2,
   "metadata": {},
   "outputs": [
    {
     "name": "stdout",
     "output_type": "stream",
     "text": [
      "\n"
     ]
    }
   ],
   "source": [
    "# Print without any argument\n",
    "print()"
   ]
  },
  {
   "cell_type": "code",
   "execution_count": 3,
   "metadata": {},
   "outputs": [
    {
     "name": "stdout",
     "output_type": "stream",
     "text": [
      "Hello World\n"
     ]
    }
   ],
   "source": [
    "# Print with one argument\n",
    "print('Hello World')"
   ]
  },
  {
   "cell_type": "code",
   "execution_count": 4,
   "metadata": {},
   "outputs": [
    {
     "name": "stdout",
     "output_type": "stream",
     "text": [
      "Hello World\n"
     ]
    }
   ],
   "source": [
    "# Print with two arguments\n",
    "print('Hello', 'World')"
   ]
  },
  {
   "cell_type": "code",
   "execution_count": 5,
   "metadata": {},
   "outputs": [
    {
     "name": "stdout",
     "output_type": "stream",
     "text": [
      "Hello,World\n"
     ]
    }
   ],
   "source": [
    "# Print with separator\n",
    "print('Hello', 'World', sep=',')"
   ]
  },
  {
   "cell_type": "code",
   "execution_count": 6,
   "metadata": {},
   "outputs": [
    {
     "name": "stdout",
     "output_type": "stream",
     "text": [
      "Hello World!"
     ]
    }
   ],
   "source": [
    "# Print with end\n",
    "print('Hello', 'World', end='!')"
   ]
  },
  {
   "cell_type": "code",
   "execution_count": 7,
   "metadata": {},
   "outputs": [
    {
     "name": "stdout",
     "output_type": "stream",
     "text": [
      "Hello,World!"
     ]
    }
   ],
   "source": [
    "# Print with separator and end\n",
    "print('Hello', 'World', sep=',', end='!')"
   ]
  },
  {
   "cell_type": "code",
   "execution_count": 8,
   "metadata": {},
   "outputs": [
    {
     "name": "stdout",
     "output_type": "stream",
     "text": [
      "Hello\n",
      "World\n"
     ]
    }
   ],
   "source": [
    "# Multiple print statements\n",
    "print('Hello')\n",
    "print('World')\n"
   ]
  },
  {
   "cell_type": "code",
   "execution_count": 9,
   "metadata": {},
   "outputs": [],
   "source": [
    "# Print with file parameter\n",
    "print('Hello World', file=open('output.txt', 'w'))"
   ]
  },
  {
   "cell_type": "code",
   "execution_count": 10,
   "metadata": {},
   "outputs": [
    {
     "name": "stdout",
     "output_type": "stream",
     "text": [
      "Hello World\n"
     ]
    }
   ],
   "source": [
    "# Print with flush parameter\n",
    "print('Hello World', flush=True)"
   ]
  },
  {
   "attachments": {},
   "cell_type": "markdown",
   "metadata": {},
   "source": [
    "## Task 1\n",
    "> Print the following text using print function.\n",
    "```\n",
    "      )\n",
    "      (\n",
    "    [_])\n",
    " ```\n"
   ]
  },
  {
   "cell_type": "code",
   "execution_count": 11,
   "metadata": {},
   "outputs": [
    {
     "name": "stdout",
     "output_type": "stream",
     "text": [
      "\n"
     ]
    }
   ],
   "source": [
    "# Write your code here\n",
    "print()"
   ]
  },
  {
   "attachments": {},
   "cell_type": "markdown",
   "metadata": {},
   "source": [
    "## Task 2\n",
    "> Print the following text using print function.\n",
    "```\n",
    "     =\n",
    "    / \\\n",
    "    ) (\n",
    "    [_]\n",
    "```"
   ]
  },
  {
   "attachments": {},
   "cell_type": "markdown",
   "metadata": {},
   "source": [
    "## Challenge\n",
    "> Print the following text using only one print statement.\n",
    "```\n",
    "     =\n",
    "    / \\\n",
    "    ) (\n",
    "    [_]\n",
    "```\n",
    "\n",
    "> Print the following text using only one print statement.\n",
    "```\n",
    "      )\n",
    "      (\n",
    "    [_])\n",
    "```"
   ]
  },
  {
   "attachments": {},
   "cell_type": "markdown",
   "metadata": {},
   "source": [
    "## Homework\n",
    "\n",
    "> Print the following:\n",
    "```\n",
    "    1\n",
    "   2 2\n",
    "  3 3 3\n",
    " 4 4 4 4    \n",
    "```\n",
    "\n",
    "> Print the following:\n",
    "```\n",
    "*\n",
    "* *\n",
    "*   *\n",
    "*     *\n",
    "* * * * *\n",
    "```\n",
    "\n",
    "> Print the following:\n",
    "```\n",
    "* * * * *\n",
    "*       *\n",
    "*       *\n",
    "*       *\n",
    "* * * * *\n",
    "```\n",
    "\n",
    "> Print the following:\n",
    "```\n",
    "*******\n",
    "*** ***\n",
    "**   **\n",
    "*     *\n",
    "*     *\n",
    "**   **\n",
    "*** ***\n",
    "*******\n",
    "```\n",
    "> Print the following dinosaur:\n",
    "```\n",
    "              ___\n",
    "             /  _)\n",
    "    _.----._/  /\n",
    "   /          /\n",
    " _/   ( |  ( |\n",
    "/__.-'|_|--|_|\n",
    "\n",
    "```\n",
    "> Print the following :\n",
    "```\n",
    "    __O\n",
    "  _ \\< _\n",
    " (_)/ (_)\n",
    "``` \n"
   ]
  },
  {
   "cell_type": "markdown",
   "metadata": {},
   "source": []
  },
  {
   "cell_type": "markdown",
   "metadata": {},
   "source": []
  }
 ],
 "metadata": {
  "kernelspec": {
   "display_name": "Python 3",
   "language": "python",
   "name": "python3"
  },
  "language_info": {
   "codemirror_mode": {
    "name": "ipython",
    "version": 3
   },
   "file_extension": ".py",
   "mimetype": "text/x-python",
   "name": "python",
   "nbconvert_exporter": "python",
   "pygments_lexer": "ipython3",
   "version": "3.9.6"
  },
  "orig_nbformat": 4
 },
 "nbformat": 4,
 "nbformat_minor": 2
}
