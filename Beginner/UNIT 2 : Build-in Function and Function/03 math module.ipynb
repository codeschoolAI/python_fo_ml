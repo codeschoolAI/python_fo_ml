{
 "cells": [
  {
   "attachments": {},
   "cell_type": "markdown",
   "metadata": {},
   "source": [
    "# Mathematical module in Python\n",
    "> The math module is a standard module in Python and is always available. To use mathematical functions under this module, you have to import the module using import math. "
   ]
  },
  {
   "cell_type": "markdown",
   "metadata": {},
   "source": []
  },
  {
   "attachments": {},
   "cell_type": "markdown",
   "metadata": {},
   "source": [
    "math module contains the following functions:\n",
    "\n",
    "| Function | Description |\n",
    "| --- | --- |\n",
    "| sqrt(x) | Returns the square root of x |\n",
    "| pow(x, y) | Returns x raised to the power y. |\n",
    "| ceil(x) | Returns the smallest integer greater than or equal to x. |\n",
    "| floor(x) | Returns the largest integer less than or equal to x. |\n",
    "| fabs(x) | Returns the absolute value of x. |\n",
    "| factorial(x) | Returns the factorial of x. |\n",
    "| copysign(x, y) | Returns x with the sign of y |\n",
    "| gcd(x, y) | Returns the greatest common divisor of x and y |\n",
    "| exp(x) | Returns e**x |\n",
    "\n"
   ]
  },
  {
   "attachments": {},
   "cell_type": "markdown",
   "metadata": {},
   "source": [
    "### Syntax of importing math module\n",
    "```python\n",
    "import math\n",
    "```\n",
    "- *import* is a keyword that tells Python to load a module.\n",
    "- *math* is the name of the module."
   ]
  },
  {
   "cell_type": "markdown",
   "metadata": {},
   "source": []
  },
  {
   "cell_type": "code",
   "execution_count": 3,
   "metadata": {},
   "outputs": [
    {
     "name": "stdout",
     "output_type": "stream",
     "text": [
      "3.1622776601683795\n"
     ]
    }
   ],
   "source": [
    "import math\n",
    "print(math.sqrt(10))\n"
   ]
  },
  {
   "cell_type": "code",
   "execution_count": 5,
   "metadata": {},
   "outputs": [
    {
     "name": "stdout",
     "output_type": "stream",
     "text": [
      "120\n"
     ]
    }
   ],
   "source": [
    "# Factorial is the product of all positive integers less than or equal to n\n",
    "# We can use math module in other cell in the same notebook \n",
    "print(math.factorial(5))"
   ]
  },
  {
   "attachments": {},
   "cell_type": "markdown",
   "metadata": {},
   "source": [
    "### Syntax of importing specific function from the math module\n",
    "```python\n",
    "from math import sqrt\n",
    "```"
   ]
  },
  {
   "cell_type": "code",
   "execution_count": 6,
   "metadata": {},
   "outputs": [
    {
     "name": "stdout",
     "output_type": "stream",
     "text": [
      "3.1622776601683795\n"
     ]
    }
   ],
   "source": [
    "from math import sqrt\n",
    "print(sqrt(10))"
   ]
  },
  {
   "attachments": {},
   "cell_type": "markdown",
   "metadata": {},
   "source": [
    "### Syntax of importing multiple functions from the math module\n",
    "```python\n",
    "from math import sqrt, pow\n",
    "```"
   ]
  },
  {
   "cell_type": "code",
   "execution_count": 7,
   "metadata": {},
   "outputs": [],
   "source": [
    "from math import sqrt, pow"
   ]
  },
  {
   "attachments": {},
   "cell_type": "markdown",
   "metadata": {},
   "source": [
    "### Syntax of importing all functions from the math module\n",
    "```python\n",
    "from math import *\n",
    "```\n"
   ]
  },
  {
   "attachments": {},
   "cell_type": "markdown",
   "metadata": {},
   "source": [
    "### Math Constants\n",
    "| Constant | Description |\n",
    "| --- | --- |\n",
    "| pi | Mathematical constant, the ratio of circumference of a circle to it's diameter (3.14159...) |\n",
    "| e | Mathematical constant e (2.71828...) |\n",
    "| tau | The mathematical constant 2*pi (6.28318...) |\n",
    "| inf | A floating-point positive infinity |\n",
    "| nan | A floating-point \"not a number\" (NaN) value |\n"
   ]
  },
  {
   "cell_type": "code",
   "execution_count": 8,
   "metadata": {},
   "outputs": [
    {
     "name": "stdout",
     "output_type": "stream",
     "text": [
      "3.141592653589793\n",
      "2.718281828459045\n",
      "6.283185307179586\n",
      "inf\n",
      "nan\n"
     ]
    }
   ],
   "source": [
    "# Example for math constants\n",
    "from math import pi, e, tau, inf, nan\n",
    "print(pi)\n",
    "print(e)\n",
    "print(tau)\n",
    "print(inf)\n",
    "print(nan)\n"
   ]
  },
  {
   "cell_type": "code",
   "execution_count": null,
   "metadata": {},
   "outputs": [],
   "source": []
  }
 ],
 "metadata": {
  "kernelspec": {
   "display_name": "Python 3",
   "language": "python",
   "name": "python3"
  },
  "language_info": {
   "codemirror_mode": {
    "name": "ipython",
    "version": 3
   },
   "file_extension": ".py",
   "mimetype": "text/x-python",
   "name": "python",
   "nbconvert_exporter": "python",
   "pygments_lexer": "ipython3",
   "version": "3.9.6"
  },
  "orig_nbformat": 4
 },
 "nbformat": 4,
 "nbformat_minor": 2
}
