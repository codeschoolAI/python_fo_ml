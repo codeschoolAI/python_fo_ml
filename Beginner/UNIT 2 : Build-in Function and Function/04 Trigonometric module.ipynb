{
 "cells": [
  {
   "attachments": {},
   "cell_type": "markdown",
   "metadata": {},
   "source": [
    "# Trigonometric module in Python\n",
    "The trigonometric module is used to compute the trigonometric functions of the specified angle in radians. "
   ]
  },
  {
   "attachments": {},
   "cell_type": "markdown",
   "metadata": {},
   "source": [
    "## Trigonometric functions\n",
    "\n",
    "| Function | Description |\n",
    "| --- | --- |\n",
    "| `sin(x)` | Returns the sine of x radians |\n",
    "| `cos(x)` | Returns the cosine of x radians |\n",
    "| `tan(x)` | Returns the tangent of x radians |\n",
    "| `asin(x)` | Returns the arc sine of x radians |\n",
    "| `acos(x)` | Returns the arc cosine of x radians |\n",
    "| `degrees(x)` | Converts angle x from radians to degrees |\n",
    "| `radians(x)` | Converts angle x from degrees to radians |\n"
   ]
  },
  {
   "cell_type": "markdown",
   "metadata": {},
   "source": []
  }
 ],
 "metadata": {
  "language_info": {
   "name": "python"
  },
  "orig_nbformat": 4
 },
 "nbformat": 4,
 "nbformat_minor": 2
}
