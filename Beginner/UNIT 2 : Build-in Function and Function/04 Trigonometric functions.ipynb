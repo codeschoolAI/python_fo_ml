{
 "cells": [
  {
   "attachments": {},
   "cell_type": "markdown",
   "metadata": {},
   "source": [
    "# Trigonometric functions in Python\n",
    "The trigonometric functions in Python are used to determine the sine, cosine, and tangent values of a given angle. The trigonometric functions are available in the math module, which is a built-in module, and hence, you don't need to install it externally."
   ]
  },
  {
   "attachments": {},
   "cell_type": "markdown",
   "metadata": {},
   "source": [
    "## Trigonometric functions\n",
    "\n",
    "| Function | Description |\n",
    "| --- | --- |\n",
    "| `sin(x)` | Returns the sine of x radians |\n",
    "| `cos(x)` | Returns the cosine of x radians |\n",
    "| `tan(x)` | Returns the tangent of x radians |\n",
    "| `asin(x)` | Returns the arc sine of x radians |\n",
    "| `acos(x)` | Returns the arc cosine of x radians |\n",
    "| `degrees(x)` | Converts angle x from radians to degrees |\n",
    "| `radians(x)` | Converts angle x from degrees to radians |\n"
   ]
  },
  {
   "cell_type": "markdown",
   "metadata": {},
   "source": []
  },
  {
   "cell_type": "code",
   "execution_count": null,
   "metadata": {
    "vscode": {
     "languageId": "plaintext"
    }
   },
   "outputs": [],
   "source": []
  }
 ],
 "metadata": {
  "language_info": {
   "name": "python"
  },
  "orig_nbformat": 4
 },
 "nbformat": 4,
 "nbformat_minor": 2
}
