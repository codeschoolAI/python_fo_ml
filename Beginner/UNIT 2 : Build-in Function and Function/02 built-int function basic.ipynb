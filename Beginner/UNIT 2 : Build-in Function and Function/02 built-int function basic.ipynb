{
 "cells": [
  {
   "attachments": {},
   "cell_type": "markdown",
   "metadata": {},
   "source": [
    "# Python Built-in Functions\n"
   ]
  },
  {
   "attachments": {},
   "cell_type": "markdown",
   "metadata": {},
   "source": [
    "> The built-in functions are part of the Python language. They are always available to you. You can use them directly."
   ]
  },
  {
   "attachments": {},
   "cell_type": "markdown",
   "metadata": {},
   "source": [
    "## List of Built-in Functions\n",
    "| abs() | enumerate() | len() | range() |\n",
    "| --- | --- | --- | --- |\n",
    "|aiter() | eval() | list() | repr() |\n",
    "|all() | exec() | locals() | reversed() |\n",
    "|any() | filter() | map() | round() |\n",
    "|ascii() | float() | max() | set() |\n",
    "|bin() | format() | memoryview() | setattr() |\n",
    "|bool() | frozenset() | min() | slice() |\n",
    "|breakpoint() | getattr() | next() | sorted() |\n",
    "|bytearray() | globals() | object() | staticmethod() |\n",
    "|bytes() | hasattr() | oct() | str() |\n",
    "|callable() | hash() | open() | sum() |\n",
    "|chr() | help() | ord() | super() |\n",
    "|classmethod() | hex() | pow() | tuple() |\n",
    "|compile() | id() | print() | type() |\n",
    "|complex() | input() | property() | vars() |\n",
    "|delattr() | int() | range() | zip() |\n",
    "|dict() | isinstance() | repr() | \\_\\_import\\_\\_() |\n",
    "|dir() | issubclass() | reversed() |  |\n",
    "|divmod() | iter() | round() |  |\n"
   ]
  },
  {
   "attachments": {},
   "cell_type": "markdown",
   "metadata": {},
   "source": [
    "## abs()\n",
    "The abs() function returns the absolute value of the given number. If the number is a complex number, abs() returns its magnitude.\n",
    "\n",
    "Syntax of abs()\n",
    "```Python\n",
    "abs(x)\n",
    "```\n",
    "|Parameter|Type|Condition|Description|\n",
    "| --- | --- | --- | --- |\n",
    "|x|number|Required|A number whose absolute value is to be returned.|\n",
    "\n",
    "\n",
    "\n"
   ]
  },
  {
   "cell_type": "code",
   "execution_count": 1,
   "metadata": {},
   "outputs": [
    {
     "name": "stdout",
     "output_type": "stream",
     "text": [
      "10\n"
     ]
    }
   ],
   "source": [
    "# Example\n",
    "x = 10\n",
    "print(abs(x))\n"
   ]
  },
  {
   "cell_type": "code",
   "execution_count": 5,
   "metadata": {},
   "outputs": [
    {
     "name": "stdout",
     "output_type": "stream",
     "text": [
      "5.0\n"
     ]
    }
   ],
   "source": [
    "# Example for complex number\n",
    "x = 3j+4 # 3j is imaginary number and 4 is real number\n",
    "print(abs(x))"
   ]
  },
  {
   "attachments": {},
   "cell_type": "markdown",
   "metadata": {},
   "source": [
    "## Round()\n",
    "The round() function returns a floating-point number rounded to the specified number of decimals.\n",
    "\n",
    "Syntax of round()\n",
    "```Python\n",
    "round(number, ndigits)\n",
    "```\n",
    "|Parameter|Type|Condition|Description|\n",
    "| --- | --- | --- | --- |\n",
    "|number|number|Required|A number to be rounded.|\n",
    "|ndigits|integer|Optional|Number of decimal places to which rounding is done. Default value is 0.|\n",
    "\n"
   ]
  },
  {
   "cell_type": "markdown",
   "metadata": {},
   "source": []
  },
  {
   "cell_type": "code",
   "execution_count": 6,
   "metadata": {},
   "outputs": [
    {
     "name": "stdout",
     "output_type": "stream",
     "text": [
      "10\n"
     ]
    }
   ],
   "source": [
    "# Example for round function\n",
    "x = 10.5\n",
    "print(round(x))"
   ]
  },
  {
   "cell_type": "code",
   "execution_count": 7,
   "metadata": {},
   "outputs": [
    {
     "name": "stdout",
     "output_type": "stream",
     "text": [
      "10\n"
     ]
    }
   ],
   "source": [
    "# Example for round function\n",
    "x = 10.4\n",
    "print(round(x))"
   ]
  },
  {
   "attachments": {},
   "cell_type": "markdown",
   "metadata": {},
   "source": [
    "## "
   ]
  }
 ],
 "metadata": {
  "kernelspec": {
   "display_name": "Python 3",
   "language": "python",
   "name": "python3"
  },
  "language_info": {
   "codemirror_mode": {
    "name": "ipython",
    "version": 3
   },
   "file_extension": ".py",
   "mimetype": "text/x-python",
   "name": "python",
   "nbconvert_exporter": "python",
   "pygments_lexer": "ipython3",
   "version": "3.9.6"
  },
  "orig_nbformat": 4
 },
 "nbformat": 4,
 "nbformat_minor": 2
}
