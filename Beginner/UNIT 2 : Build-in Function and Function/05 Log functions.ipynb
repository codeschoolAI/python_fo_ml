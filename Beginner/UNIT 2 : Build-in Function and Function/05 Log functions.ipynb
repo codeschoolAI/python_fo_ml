{
 "cells": [
  {
   "attachments": {},
   "cell_type": "markdown",
   "metadata": {},
   "source": [
    "# Logarithmic functions\n",
    "> The logarithmic functions is the inverse of the exponential function."
   ]
  },
  {
   "attachments": {},
   "cell_type": "markdown",
   "metadata": {},
   "source": [
    "## Logarithmic functions\n",
    "| Function | Description |\n",
    "| --- | --- |\n",
    "| `log(x,base)` | Returns the logarithm of x to the base (defaults to e). |\n",
    "| `log10(x)` | Returns the base-10 logarithm of x. |\n",
    "| `log2(x)` | Returns the base-2 logarithm of x. |"
   ]
  },
  {
   "cell_type": "markdown",
   "metadata": {},
   "source": []
  }
 ],
 "metadata": {
  "language_info": {
   "name": "python"
  },
  "orig_nbformat": 4
 },
 "nbformat": 4,
 "nbformat_minor": 2
}
