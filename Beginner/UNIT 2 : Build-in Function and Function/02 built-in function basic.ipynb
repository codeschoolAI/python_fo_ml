{
 "cells": [
  {
   "attachments": {},
   "cell_type": "markdown",
   "metadata": {},
   "source": [
    "# Python Built-in Functions\n"
   ]
  },
  {
   "attachments": {},
   "cell_type": "markdown",
   "metadata": {},
   "source": [
    "> The built-in functions are part of the Python language. They are always available to you. You can use them directly."
   ]
  },
  {
   "attachments": {},
   "cell_type": "markdown",
   "metadata": {},
   "source": [
    "## List of Built-in Functions\n",
    "| abs() | enumerate() | len() | range() |\n",
    "| --- | --- | --- | --- |\n",
    "|aiter() | eval() | list() | repr() |\n",
    "|all() | exec() | locals() | reversed() |\n",
    "|any() | filter() | map() | round() |\n",
    "|ascii() | float() | max() | set() |\n",
    "|bin() | format() | memoryview() | setattr() |\n",
    "|bool() | frozenset() | min() | slice() |\n",
    "|breakpoint() | getattr() | next() | sorted() |\n",
    "|bytearray() | globals() | object() | staticmethod() |\n",
    "|bytes() | hasattr() | oct() | str() |\n",
    "|callable() | hash() | open() | sum() |\n",
    "|chr() | help() | ord() | super() |\n",
    "|classmethod() | hex() | pow() | tuple() |\n",
    "|compile() | id() | print() | type() |\n",
    "|complex() | input() | property() | vars() |\n",
    "|delattr() | int() | range() | zip() |\n",
    "|dict() | isinstance() | repr() | \\_\\_import\\_\\_() |\n",
    "|dir() | issubclass() | reversed() |  |\n",
    "|divmod() | iter() | round() |  |\n"
   ]
  },
  {
   "attachments": {},
   "cell_type": "markdown",
   "metadata": {},
   "source": [
    "## type()\n",
    "The type() function returns the type of the specified object.\n",
    "\n",
    "Syntax of type()\n",
    "\n",
    "```python\n",
    "type(object, bases, dict)\n",
    "```\n",
    "\n",
    "| Parameter | type | condition | Description |\n",
    "| --- | --- | --- | --- |\n",
    "| object | Required | Any python object | The object whose type to be returned |\n",
    "| bases | Optional | tuple | Specifies the base classes |\n",
    "| dict | Optional | dictionary | Specifies the namespace |\n",
    "\n"
   ]
  },
  {
   "attachments": {},
   "cell_type": "markdown",
   "metadata": {},
   "source": [
    "## abs()\n",
    "The abs() function returns the absolute value of the given number. If the number is a complex number, abs() returns its magnitude.\n",
    "\n",
    "Syntax of abs()\n",
    "```Python\n",
    "abs(x)\n",
    "```\n",
    "|Parameter|Type|Condition|Description|\n",
    "| --- | --- | --- | --- |\n",
    "|x|number|Required|A number whose absolute value is to be returned.|\n",
    "\n",
    "\n",
    "\n"
   ]
  },
  {
   "cell_type": "code",
   "execution_count": 1,
   "metadata": {},
   "outputs": [
    {
     "name": "stdout",
     "output_type": "stream",
     "text": [
      "10\n"
     ]
    }
   ],
   "source": [
    "# Example\n",
    "x = 10\n",
    "print(abs(x))\n"
   ]
  },
  {
   "cell_type": "code",
   "execution_count": 5,
   "metadata": {},
   "outputs": [
    {
     "name": "stdout",
     "output_type": "stream",
     "text": [
      "5.0\n"
     ]
    }
   ],
   "source": [
    "# Example for complex number\n",
    "x = 3j+4 # 3j is imaginary number and 4 is real number\n",
    "print(abs(x))"
   ]
  },
  {
   "attachments": {},
   "cell_type": "markdown",
   "metadata": {},
   "source": [
    "## Round()\n",
    "The round() function returns a floating-point number rounded to the specified number of decimals.\n",
    "\n",
    "Syntax of round()\n",
    "```Python\n",
    "round(number, ndigits)\n",
    "```\n",
    "|Parameter|Type|Condition|Description|\n",
    "| --- | --- | --- | --- |\n",
    "|number|number|Required|A number to be rounded.|\n",
    "|ndigits|integer|Optional|Number of decimal places to which rounding is done. Default value is 0.|\n",
    "\n"
   ]
  },
  {
   "cell_type": "code",
   "execution_count": 11,
   "metadata": {},
   "outputs": [
    {
     "name": "stdout",
     "output_type": "stream",
     "text": [
      "10\n"
     ]
    }
   ],
   "source": [
    "# Example for round function\n",
    "x = 10.5\n",
    "print(round(number=x))"
   ]
  },
  {
   "cell_type": "code",
   "execution_count": 7,
   "metadata": {},
   "outputs": [
    {
     "name": "stdout",
     "output_type": "stream",
     "text": [
      "10\n"
     ]
    }
   ],
   "source": [
    "# Example for round function\n",
    "x = 10.4\n",
    "print(round(x))"
   ]
  },
  {
   "cell_type": "code",
   "execution_count": 8,
   "metadata": {},
   "outputs": [
    {
     "name": "stdout",
     "output_type": "stream",
     "text": [
      "3.14\n"
     ]
    }
   ],
   "source": [
    "# Example for round function\n",
    "x = 3.141592\n",
    "print(round(x,2))"
   ]
  },
  {
   "cell_type": "code",
   "execution_count": 9,
   "metadata": {},
   "outputs": [
    {
     "name": "stdout",
     "output_type": "stream",
     "text": [
      "3.142\n"
     ]
    }
   ],
   "source": [
    "# Example for round function\n",
    "x = 3.141592\n",
    "print(round(x,3))"
   ]
  },
  {
   "attachments": {},
   "cell_type": "markdown",
   "metadata": {},
   "source": [
    "## pow() \n",
    "The pow() function returns the power of a number.\n",
    "\n",
    "Syntax of pow()\n",
    "```Python\n",
    "pow(base, exp, mod)\n",
    "```\n",
    "|Parameter|Type|Condition|Description|\n",
    "| --- | --- | --- | --- |\n",
    "|base|number|Required|The base to calculate the power.|\n",
    "|exp|number|Required|The exponent that you want to calculate the power for.|\n",
    "|mod|number|Optional|A modulus.|\n"
   ]
  },
  {
   "cell_type": "code",
   "execution_count": 10,
   "metadata": {},
   "outputs": [
    {
     "name": "stdout",
     "output_type": "stream",
     "text": [
      "8\n"
     ]
    }
   ],
   "source": [
    "# Example for pow function \n",
    "print(pow(base=2,exp=3))\n"
   ]
  },
  {
   "cell_type": "code",
   "execution_count": 12,
   "metadata": {},
   "outputs": [
    {
     "name": "stdout",
     "output_type": "stream",
     "text": [
      "3\n"
     ]
    }
   ],
   "source": [
    "# Example for pow function with 3 arguments\n",
    "print(pow(base=2,exp=3,mod=5))\n"
   ]
  },
  {
   "attachments": {},
   "cell_type": "markdown",
   "metadata": {},
   "source": [
    "## Input()\n",
    "The input() function allows user input from the keyboard.\n",
    "\n",
    "Syntax of input()\n",
    "```Python\n",
    "input(prompt)\n",
    "```"
   ]
  },
  {
   "attachments": {},
   "cell_type": "markdown",
   "metadata": {},
   "source": [
    "## id()\n",
    "The id() function returns a unique id for the specified object. All objects in Python has its own unique id. The id is assigned to the object when it is created. The id is the object's memory address, and will be different for each time you run the program.\n",
    "\n",
    "Syntax of id()\n",
    "```Python\n",
    "id(object)\n",
    "```\n",
    "|Parameter|Type|Condition|Description|\n",
    "| --- | --- | --- | --- |\n",
    "|object|any type|Required|An object.|\n"
   ]
  },
  {
   "cell_type": "code",
   "execution_count": 1,
   "metadata": {},
   "outputs": [
    {
     "name": "stdout",
     "output_type": "stream",
     "text": [
      "4414405200\n"
     ]
    }
   ],
   "source": [
    "x = 10\n",
    "print(id(x))"
   ]
  },
  {
   "cell_type": "code",
   "execution_count": null,
   "metadata": {},
   "outputs": [],
   "source": []
  }
 ],
 "metadata": {
  "kernelspec": {
   "display_name": "Python 3",
   "language": "python",
   "name": "python3"
  },
  "language_info": {
   "codemirror_mode": {
    "name": "ipython",
    "version": 3
   },
   "file_extension": ".py",
   "mimetype": "text/x-python",
   "name": "python",
   "nbconvert_exporter": "python",
   "pygments_lexer": "ipython3",
   "version": "3.9.6"
  },
  "orig_nbformat": 4
 },
 "nbformat": 4,
 "nbformat_minor": 2
}
